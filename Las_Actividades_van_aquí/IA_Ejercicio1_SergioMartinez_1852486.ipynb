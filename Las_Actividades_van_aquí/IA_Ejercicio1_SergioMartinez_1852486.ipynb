{
  "nbformat": 4,
  "nbformat_minor": 0,
  "metadata": {
    "colab": {
      "name": "IA_Ejercicio1_SergioMartinez_1852486.ipynb",
      "provenance": []
    },
    "kernelspec": {
      "name": "python3",
      "display_name": "Python 3"
    },
    "language_info": {
      "name": "python"
    }
  },
  "cells": [
    {
      "cell_type": "code",
      "metadata": {
        "colab": {
          "base_uri": "https://localhost:8080/"
        },
        "id": "1CYiL28SM8rq",
        "outputId": "3cb514eb-fe82-4287-b279-d96c5eadc2c8"
      },
      "source": [
        "#Ejercicio_introductorio_python Sergio_Martinez 1852486  N4\n",
        "nombre = input(\"Digite su nombre:\") #Se pide ingresar el nombre\n",
        "edad = input(\"Digite su edad:\") #Se pide ingresar la edad\n",
        "frase = input(\"Digite su frase favorita:\") #Se pide ingresar la frase\n",
        "autor = input(\"Digite el autor de la frase anterior:\") #Se pide ingresar el autor\n",
        "\n",
        "print(f\"{nombre}\") #Se imprime el nombre ingresado\n",
        "print(f\"{edad} años\") #Se imprime la edad seguida de la palabra años\n",
        "print(f\"Su frase favorita es: {frase}\") #Se imprime la frase ingresada agregando que es su frase favorita\n",
        "print(f\"El autor de la frase es: {autor}\") #Se imprime el nombre ingresado aclarando que es el autor de la frase"
      ],
      "execution_count": 8,
      "outputs": [
        {
          "output_type": "stream",
          "name": "stdout",
          "text": [
            "Digite su nombre:Sergio\n",
            "Digite su edad:20\n",
            "Digite su frase favorita:La ira, por consiguiente no es útil ni aun en la guerra.\n",
            "Digite el autor de la frase anterior:Séneca\n",
            "Sergio\n",
            "20 años\n",
            "Su frase favorita es: La ira, por consiguiente no es útil ni aun en la guerra.\n",
            "El autor de la frase es: Séneca\n"
          ]
        }
      ]
    },
    {
      "cell_type": "code",
      "metadata": {
        "colab": {
          "base_uri": "https://localhost:8080/"
        },
        "id": "Y-g9qC91OY9J",
        "outputId": "97de8c8e-a85d-4a13-cb14-a5528d48d041"
      },
      "source": [
        "a = int(input (\"Digite un numero entero:\")) #Se pide ingresar un numero entero\n",
        "b = int(input (\"Digite un numero entero:\")) #Se pide ingresar un numero entero\n",
        "c = float(input (\"Digite un numero decimal:\")) #Se pide ingresar un numero decimal\n",
        "d = float(input (\"Digite un numero decimal:\")) #Se pide ingresar un numero decimal\n",
        "print(f\"El resultado de la suma del primer entero más el segundo es:{a+b}\") #Se realiza la suma de los enteros\n",
        "print(f\"El resultado de la resta del primer entero menos el segundo es:{a-b}\") #Se realiza la resta del primer entero menos el segundo\n",
        "print(f\"El resultado de la multiplicacion de los enteros es:{a*b}\") #Se realiza la multiplicación de los enteros\n",
        "print(f\"El resultado de la división del primer entero entre el segundo es:{a/b}\") #Se realiza la división del primer entero entre el segundo\n",
        "print(f\"El resultado de la suma del primer decimal más el segundo es:{c+d}\") #Se realiza la suma de los decimales\n",
        "print(f\"El resultado de la resta del primer decimal menos el segundo es:{c-d}\") #Se realiza la resta del primer decimal menos el segundo\n",
        "print(f\"El resultado de la multiplicacion de los decimales es:{c*d}\") #Se realiza la multiplicación de los decimales\n",
        "print(f\"El resultado de la división del primer decimal entre el segundo es:{c/d}\") #Se realiza la división del primer decimal entre el segundo"
      ],
      "execution_count": 19,
      "outputs": [
        {
          "output_type": "stream",
          "name": "stdout",
          "text": [
            "Digite un numero entero:25\n",
            "Digite un numero entero:15\n",
            "Digite un numero decimal:3.3\n",
            "Digite un numero decimal:3.6\n",
            "El resultado de la suma del primer entero más el segundo es:40\n",
            "El resultado de la resta del primer entero menos el segundo es:10\n",
            "El resultado de la multiplicacion de los enteros es:375\n",
            "El resultado de la división del primer entero entre el segundo es:1.6666666666666667\n",
            "El resultado de la suma del primer decimal más el segundo es:6.9\n",
            "El resultado de la resta del primer decimal menos el segundo es:-0.30000000000000027\n",
            "El resultado de la multiplicacion de los decimales es:11.879999999999999\n",
            "El resultado de la división del primer decimal entre el segundo es:0.9166666666666666\n"
          ]
        }
      ]
    },
    {
      "cell_type": "code",
      "metadata": {
        "colab": {
          "base_uri": "https://localhost:8080/"
        },
        "id": "xnTiGhpyOWCD",
        "outputId": "0286540e-f2ec-4f64-be52-7d225e823044"
      },
      "source": [
        "a = 10 #Se le dan valor a las variables a comparar\n",
        "b = 15\n",
        "c = 15\n",
        "d = 30\n",
        "\n",
        "primero = ((b<c) and (d<a)) #Se comparan entre si con el operador and\n",
        "segundo = ((d>=a) and (b==c)) #Se comparan entre si con el operador and\n",
        "tercero = ((c==d) or (a<b)) #Se comparan entre si con el operador or\n",
        "cuarto = ((d<c) or (c<a)) #Se comparan entre si con el operador or\n",
        "quinto = not ((b<c) and (d<a)) #Se negaron la primer y segunda expresión para obtener el resultado contrario\n",
        "sexto = not ((d>=a) and (b==c))\n",
        "\n",
        "print(primero) #Se imprimió el resultado de las 6 expresiones \n",
        "print(segundo)\n",
        "print(tercero)\n",
        "print(cuarto)\n",
        "print(quinto)\n",
        "print(sexto)"
      ],
      "execution_count": 20,
      "outputs": [
        {
          "output_type": "stream",
          "name": "stdout",
          "text": [
            "False\n",
            "True\n",
            "True\n",
            "False\n",
            "True\n",
            "False\n"
          ]
        }
      ]
    }
  ]
}