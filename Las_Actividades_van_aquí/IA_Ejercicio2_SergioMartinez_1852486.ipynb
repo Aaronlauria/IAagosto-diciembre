{
  "nbformat": 4,
  "nbformat_minor": 0,
  "metadata": {
    "colab": {
      "name": "IA_Ejercicio2_SergioMartinez_1852486.ipynb",
      "provenance": []
    },
    "kernelspec": {
      "name": "python3",
      "display_name": "Python 3"
    },
    "language_info": {
      "name": "python"
    }
  },
  "cells": [
    {
      "cell_type": "code",
      "metadata": {
        "colab": {
          "base_uri": "https://localhost:8080/"
        },
        "id": "pQIelIumxnuu",
        "outputId": "819fe4c0-9372-4e31-dbfe-c8a44c2aa7e2"
      },
      "source": [
        "#Ejercicio_introductorio_python_2da_parte Sergio_Martinez 1852486  N4\n",
        "a = input (\"Mencione una comida:\") #se pide ingresar una comida guardando el valor en una variable\n",
        "b = input (\"Mencione una comida:\") #se pide ingresar una comida guardando el valor en una variable\n",
        "c = input (\"Mencione una comida:\") #se pide ingresar una comida guardando el valor en una variable\n",
        "d = input (\"Mencione una comida:\") #se pide ingresar una comida guardando el valor en una variable\n",
        "e = input (\"Mencione una comida:\") #se pide ingresar una comida guardando el valor en una variable\n",
        "f = input (\"Mencione una comida:\") #se pide ingresar una comida guardando el valor en una variable\n",
        "g = input (\"Mencione una comida:\") #se pide ingresar una comida guardando el valor en una variable\n",
        "\n",
        "lista = [a,b,c,d,e,f,g] #se guardan las variables en una lista\n",
        "for x in lista: #se imprimen los datos de esa lista\n",
        "  print(x)\n",
        " "
      ],
      "execution_count": 29,
      "outputs": [
        {
          "output_type": "stream",
          "name": "stdout",
          "text": [
            "Mencione una comida:tacos\n",
            "Mencione una comida:sopa\n",
            "Mencione una comida:sushi\n",
            "Mencione una comida:pollo\n",
            "Mencione una comida:pescado\n",
            "Mencione una comida:carne asada\n",
            "Mencione una comida:pasta\n",
            "tacos\n",
            "sopa\n",
            "sushi\n",
            "pollo\n",
            "pescado\n",
            "carne asada\n",
            "pasta\n"
          ]
        }
      ]
    },
    {
      "cell_type": "code",
      "metadata": {
        "colab": {
          "base_uri": "https://localhost:8080/"
        },
        "id": "fB38YSW26z_H",
        "outputId": "0f9a65ed-3694-450b-c7ec-21dbc6f0b49d"
      },
      "source": [
        "a = input (\"Mencione una comida:\") #se pide ingresar una comida guardando el valor en una variable\n",
        "b = input (\"Mencione una comida:\") #se pide ingresar una comida guardando el valor en una variable\n",
        "c = input (\"Mencione una comida:\") #se pide ingresar una comida guardando el valor en una variable\n",
        "d = input (\"Mencione una comida:\") #se pide ingresar una comida guardando el valor en una variable\n",
        "e = input (\"Mencione una comida:\") #se pide ingresar una comida guardando el valor en una variable\n",
        "f = input (\"Mencione una comida:\") #se pide ingresar una comida guardando el valor en una variable\n",
        "g = input (\"Mencione una comida:\") #se pide ingresar una comida guardando el valor en una variable\n",
        "\n",
        "lista = [a,b,c,d,e,f,g] #se guardan las variables en una lista \n",
        "\n",
        "for x in range (7):#se imprimen una a una las comidas favoritas añadiendo el mensaje de \"Una de mis comidas favoritas es:\"\n",
        "  if x==0:\n",
        "    print(\"Una de mis comidas favoritas es:\", lista [x])\n",
        "  if x==1:\n",
        "    print(\"Una de mis comidas favoritas es:\", lista [x])\n",
        "  if x==2:\n",
        "    print(\"Una de mis comidas favoritas es:\", lista [x])\n",
        "  if x==3:\n",
        "    print(\"Una de mis comidas favoritas es:\", lista [x])\n",
        "  if x==4:\n",
        "    print(\"Una de mis comidas favoritas es:\", lista [x])\n",
        "  if x==5:\n",
        "    print(\"Una de mis comidas favoritas es:\", lista [x])\n",
        "  if x==6:\n",
        "    print(\"Una de mis comidas favoritas es:\", lista [x])"
      ],
      "execution_count": 30,
      "outputs": [
        {
          "output_type": "stream",
          "name": "stdout",
          "text": [
            "Mencione una comida:tacos\n",
            "Mencione una comida:sopa\n",
            "Mencione una comida:sushi\n",
            "Mencione una comida:carne asada\n",
            "Mencione una comida:pollo\n",
            "Mencione una comida:pescado\n",
            "Mencione una comida:pasta\n",
            "Una de mis comidas favoritas es: tacos\n",
            "Una de mis comidas favoritas es: sopa\n",
            "Una de mis comidas favoritas es: sushi\n",
            "Una de mis comidas favoritas es: carne asada\n",
            "Una de mis comidas favoritas es: pollo\n",
            "Una de mis comidas favoritas es: pescado\n",
            "Una de mis comidas favoritas es: pasta\n"
          ]
        }
      ]
    },
    {
      "cell_type": "code",
      "metadata": {
        "colab": {
          "base_uri": "https://localhost:8080/"
        },
        "id": "cceR50XlZCLN",
        "outputId": "61cee4bc-7a85-43e8-e504-7afe694bd847"
      },
      "source": [
        "opciones=[1, 2, 3]#Se introducen las opciones en una lista\n",
        "piedra=[0] #Se determina que movimiento será representado por cada posicion en la lista\n",
        "papel=[1]\n",
        "tijera=[2]\n",
        "print(\"(1)Piedra\") #Se imprime la lista de movimientos\n",
        "print(\"(2)Papel\")\n",
        "print(\"(3)Tijera\")\n",
        "Jugada1=int(input (\"J1 Escoja el numero de su movimiento:\")) #Se le pide a los usuarios elegir un movimiento de acuerdo a su numero\n",
        "Jugada2=int(input (\"J2 Escoja el numero de su movimiento:\"))\n",
        "if Jugada1 == 1 and Jugada2 == 2: #Dependiendo del numero que elijan se determina si hay un ganador, es empate o se seleccionó un numero fuera de los movimientos\n",
        "  print(\"Jugador 2 gana\")# Se imprime el ganador, si hubo empate o si hubo movimientos no validos\n",
        "if Jugada1 == 1 and Jugada2 == 3:\n",
        "  print(\"Jugador 1 gana\")\n",
        "if Jugada1 == 2 and Jugada2 == 1:\n",
        "  print(\"Jugador 1 gana\")\n",
        "if Jugada1 == 2 and Jugada2 == 3:\n",
        "  print(\"Jugador 2 gana\")\n",
        "if Jugada1 == 3 and Jugada2 == 1:\n",
        "  print(\"Jugador 2 gana\")\n",
        "if Jugada1 == 3 and Jugada2 == 2:\n",
        "  print(\"Jugador 1 gana\")\n",
        "if Jugada1 == Jugada2:\n",
        "  print(\"Es un empate\")\n",
        "if (Jugada1 > 3) or (Jugada1 < 1) or (Jugada2 > 3) or (Jugada2 < 1): \n",
        "  print(\"movimiento invalido, favor de volver a iniciar\")"
      ],
      "execution_count": 73,
      "outputs": [
        {
          "output_type": "stream",
          "name": "stdout",
          "text": [
            "(1)Piedra\n",
            "(2)Papel\n",
            "(3)Tijera\n",
            "J1 Escoja el numero de su movimiento:2\n",
            "J2 Escoja el numero de su movimiento:3\n",
            "Jugador 2 gana\n"
          ]
        }
      ]
    },
    {
      "cell_type": "code",
      "metadata": {
        "colab": {
          "base_uri": "https://localhost:8080/"
        },
        "id": "0Y7RYiHM94i6",
        "outputId": "264e0ac7-9cbd-456a-ec80-9209787edc66"
      },
      "source": [
        "lista = [1,2,3,4,5,6]#Se guardan los valores con los que se trabajará en una lista\n",
        "print(*lista[:6])#Se imprime desde el inicio hasta el numero que se desea dependiendo de la fila para lograr el patrón\n",
        "print(*lista[:5])\n",
        "print(*lista[:4])\n",
        "print(*lista[:3])\n",
        "print(*lista[:2])\n",
        "print(\"1\")\n",
        "print(*lista[:2])\n",
        "print(*lista[:3])\n",
        "print(*lista[:4])\n",
        "print(*lista[:5])\n",
        "print(*lista[:6])"
      ],
      "execution_count": 81,
      "outputs": [
        {
          "output_type": "stream",
          "name": "stdout",
          "text": [
            "1 2 3 4 5 6\n",
            "1 2 3 4 5\n",
            "1 2 3 4\n",
            "1 2 3\n",
            "1 2\n",
            "1\n",
            "1 2\n",
            "1 2 3\n",
            "1 2 3 4\n",
            "1 2 3 4 5\n",
            "1 2 3 4 5 6\n"
          ]
        }
      ]
    }
  ]
}