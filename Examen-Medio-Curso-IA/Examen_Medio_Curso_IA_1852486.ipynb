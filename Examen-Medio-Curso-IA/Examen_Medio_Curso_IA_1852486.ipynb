{
  "nbformat": 4,
  "nbformat_minor": 0,
  "metadata": {
    "colab": {
      "name": "Examen-Medio-Curso-IA-1852486.ipynb",
      "provenance": []
    },
    "kernelspec": {
      "name": "python3",
      "display_name": "Python 3"
    },
    "language_info": {
      "name": "python"
    }
  },
  "cells": [
    {
      "cell_type": "code",
      "metadata": {
        "colab": {
          "base_uri": "https://localhost:8080/"
        },
        "id": "n_JC8fJx4O50",
        "outputId": "deb1e751-f7c4-479e-8b80-e0d207a5973b"
      },
      "source": [
        "numero = int(input(\"Introduzca un numero:\"))\n",
        "suma = numero*((numero + 1)/2)\n",
        "print(\"La suma de numeros enteros hasta su numero es:\")\n",
        "print(suma)"
      ],
      "execution_count": 8,
      "outputs": [
        {
          "output_type": "stream",
          "name": "stdout",
          "text": [
            "Introduzca un numero:100\n",
            "La suma de numeros enteros hasta su numero es:\n",
            "5050.0\n"
          ]
        }
      ]
    },
    {
      "cell_type": "code",
      "metadata": {
        "colab": {
          "base_uri": "https://localhost:8080/"
        },
        "id": "f7gH3eGl6bvp",
        "outputId": "a1db2af0-4208-4ba0-ad24-efd06175dbcb"
      },
      "source": [
        "lista=[6,7,8,9,10,11,12,13,14,15,16,17,18,19,20,21,22,23,24,25,26,27,28,29,30,31]\n",
        "print(\"Los numeros pares en esta lista son:\")\n",
        "for num in lista:\n",
        "  if num %2 == 0:\n",
        "    print(num)"
      ],
      "execution_count": 7,
      "outputs": [
        {
          "output_type": "stream",
          "name": "stdout",
          "text": [
            "Los numeros pares en esta lista son:\n",
            "6\n",
            "8\n",
            "10\n",
            "12\n",
            "14\n",
            "16\n",
            "18\n",
            "20\n",
            "22\n",
            "24\n",
            "26\n",
            "28\n",
            "30\n"
          ]
        }
      ]
    }
  ]
}